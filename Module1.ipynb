{
  "nbformat": 4,
  "nbformat_minor": 0,
  "metadata": {
    "colab": {
      "name": "Untitled0.ipynb",
      "provenance": []
    },
    "kernelspec": {
      "name": "python3",
      "display_name": "Python 3"
    }
  },
  "cells": [
    {
      "cell_type": "markdown",
      "metadata": {
        "id": "YCJaepmmfKrS"
      },
      "source": [
        "Project Module 1 : CPSMA 3133 [Dr. Jacob's](https://github.com/nurfnick) Discrete Mathematics \n",
        "\n",
        "Sets\n",
        "\n",
        "Micah Fredrickson 0275632\n",
        "\n",
        "\n"
      ]
    },
    {
      "cell_type": "markdown",
      "metadata": {
        "id": "Xs_Pvtua1Nnt"
      },
      "source": [
        "## 1 Sets"
      ]
    },
    {
      "cell_type": "markdown",
      "metadata": {
        "id": "2z6U1aB_fQDM"
      },
      "source": [
        "First tell me what you are trying to do in words"
      ]
    },
    {
      "cell_type": "markdown",
      "source": [
        "I am defining the set sports to contain different sports."
      ],
      "metadata": {
        "id": "Cx1pHhSTbqKe"
      }
    },
    {
      "cell_type": "code",
      "metadata": {
        "id": "rU_BgC_kfH7g",
        "colab": {
          "base_uri": "https://localhost:8080/"
        },
        "outputId": "adb7d373-7266-46ca-b11a-8f9afa0b9bbf"
      },
      "source": [
        "\n",
        "\n",
        "Sports = {\"Basketball\", \"Baseball\", \"Tennis\", \"Football\", \"Soccer\", \"Hockey\"}\n",
        "print(Sports)\n",
        "\n",
        "\n"
      ],
      "execution_count": 14,
      "outputs": [
        {
          "output_type": "stream",
          "name": "stdout",
          "text": [
            "{'Football', 'Baseball', 'Soccer', 'Hockey', 'Tennis', 'Basketball'}\n"
          ]
        }
      ]
    },
    {
      "cell_type": "markdown",
      "source": [
        "I am defining a set of programming languages"
      ],
      "metadata": {
        "id": "JQ0mDkdCb7g4"
      }
    },
    {
      "cell_type": "code",
      "source": [
        "Programming_Languages = {\"C\", \"C++\", \"Python\", \"Java\", \"Ruby\", \"SQL\"}\n",
        "print(Programming_Languages)\n"
      ],
      "metadata": {
        "colab": {
          "base_uri": "https://localhost:8080/"
        },
        "id": "VmA_7cteb_EL",
        "outputId": "9c83140f-897f-4694-c480-df2566feda41"
      },
      "execution_count": 15,
      "outputs": [
        {
          "output_type": "stream",
          "name": "stdout",
          "text": [
            "{'SQL', 'Java', 'Python', 'C', 'Ruby', 'C++'}\n"
          ]
        }
      ]
    },
    {
      "cell_type": "markdown",
      "source": [
        "Defining a set of animals."
      ],
      "metadata": {
        "id": "hKB66c7fb9xj"
      }
    },
    {
      "cell_type": "code",
      "source": [
        "Animals = {\"Cat\", \"Dog\", \"Goose\", \"Giraffe\", \"Monkey\", \"Python\" \"Cow\", \"Donkey\"}\n",
        "print(Animals)"
      ],
      "metadata": {
        "colab": {
          "base_uri": "https://localhost:8080/"
        },
        "id": "NJt1bCpRb6TZ",
        "outputId": "034dfbdc-f58d-44d0-ab9a-4ff9225a1694"
      },
      "execution_count": 16,
      "outputs": [
        {
          "output_type": "stream",
          "name": "stdout",
          "text": [
            "{'Giraffe', 'Monkey', 'Dog', 'Goose', 'Donkey', 'Cat', 'Cow'}\n"
          ]
        }
      ]
    },
    {
      "cell_type": "markdown",
      "metadata": {
        "id": "Iggon6VK1Vxo"
      },
      "source": [
        "Some more text hopefully explaining why what you did worked."
      ]
    },
    {
      "cell_type": "markdown",
      "metadata": {
        "id": "_7RoPTU_hXG1"
      },
      "source": [
        "## 2 Functions"
      ]
    },
    {
      "cell_type": "markdown",
      "metadata": {
        "id": "MMXFYCZ6hajg"
      },
      "source": [
        "Universal Set\n",
        "\n",
        "Listing the set of Animals, Sports, Programming_Languages."
      ]
    },
    {
      "cell_type": "code",
      "metadata": {
        "id": "5U5T3Fld5X0S",
        "colab": {
          "base_uri": "https://localhost:8080/"
        },
        "outputId": "be16bb63-4eaf-43b0-c64b-943bdfcc1458"
      },
      "source": [
        "print (Animals, Sports, Programming_Languages)"
      ],
      "execution_count": 17,
      "outputs": [
        {
          "output_type": "stream",
          "name": "stdout",
          "text": [
            "{'Giraffe', 'Monkey', 'Dog', 'Goose', 'Donkey', 'Cat', 'Cow'} {'Football', 'Baseball', 'Soccer', 'Hockey', 'Tennis', 'Basketball'} {'SQL', 'Java', 'Python', 'C', 'Ruby', 'C++'}\n"
          ]
        }
      ]
    },
    {
      "cell_type": "markdown",
      "source": [
        "(c) There is no difference in which set is called first since one of the properties of a set is sets do not have a certain order. <br>\n",
        "(e) I did not have any subsets, as each of my sets were totally different from eachother. I had no set that was fully included inside another set. <br>\n",
        "(f) Compute a power set for set A. How many elements would the power set of U have?"
      ],
      "metadata": {
        "id": "h2lDM475ep6b"
      }
    }
  ]
}