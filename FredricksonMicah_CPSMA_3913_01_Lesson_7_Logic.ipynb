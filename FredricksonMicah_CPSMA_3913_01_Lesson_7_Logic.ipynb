{
  "nbformat": 4,
  "nbformat_minor": 0,
  "metadata": {
    "colab": {
      "name": "FredricksonMicah_CPSMA_3913_01_Lesson_7_Logic.ipynb",
      "provenance": [],
      "authorship_tag": "ABX9TyMJVDDt/R76iQPcyFB20p8v",
      "include_colab_link": true
    },
    "kernelspec": {
      "name": "python3",
      "display_name": "Python 3"
    },
    "language_info": {
      "name": "python"
    }
  },
  "cells": [
    {
      "cell_type": "markdown",
      "metadata": {
        "id": "view-in-github",
        "colab_type": "text"
      },
      "source": [
        "<a href=\"https://colab.research.google.com/github/fredricksonm/Discrete-Mathematics/blob/main/FredricksonMicah_CPSMA_3913_01_Lesson_7_Logic.ipynb\" target=\"_parent\"><img src=\"https://colab.research.google.com/assets/colab-badge.svg\" alt=\"Open In Colab\"/></a>"
      ]
    },
    {
      "cell_type": "markdown",
      "source": [
        "# Project Part #7 : CPSMA 3913-01 Discrete Mathematics"
      ],
      "metadata": {
        "id": "BYUmFIvEZvB4"
      }
    },
    {
      "cell_type": "markdown",
      "source": [
        "## Logic"
      ],
      "metadata": {
        "id": "TzwW6x3uZx_R"
      }
    },
    {
      "cell_type": "markdown",
      "source": [
        "First, I will make 3 propositions."
      ],
      "metadata": {
        "id": "v5kcOYmCbJCJ"
      }
    },
    {
      "cell_type": "markdown",
      "source": [
        "Let college (p) be the proposition that Micah is enrolled in college. <br>\n",
        "Let basketball (r) be the proposition that Micah likes to play basketball. <br>\n",
        "Let vegan (q) be the proposition that Micah is vegan. <br>"
      ],
      "metadata": {
        "id": "p1mWc8U-Z7tv"
      }
    },
    {
      "cell_type": "markdown",
      "source": [
        "All of my propositions truth value are true."
      ],
      "metadata": {
        "id": "2llx_RiEbEtT"
      }
    },
    {
      "cell_type": "markdown",
      "source": [
        "basketball ^ college = true\n",
        "\n",
        "basketball ^ not vegan = false\n",
        "\n",
        "basketball implies college = true"
      ],
      "metadata": {
        "id": "0JUVWLwUakpS"
      }
    },
    {
      "cell_type": "markdown",
      "source": [
        "Below is my truth table for ¬ (r ⊕ p) ⇒ (p ∨ q)"
      ],
      "metadata": {
        "id": "IVBjS2yWbL6S"
      }
    },
    {
      "cell_type": "markdown",
      "source": [
        "basketball exor college = false\n",
        "not (basketball exor college) = true\n",
        "college or vegan = true.\n",
        "not (basketball exor college) implies (college or vegan) = true."
      ],
      "metadata": {
        "id": "JN_cAs2nbVNH"
      }
    }
  ]
}