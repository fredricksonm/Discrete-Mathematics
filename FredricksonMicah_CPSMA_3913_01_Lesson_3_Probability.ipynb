{
  "nbformat": 4,
  "nbformat_minor": 0,
  "metadata": {
    "colab": {
      "name": "FredricksonMicah_CPSMA_3913_01_Lesson_3_Probability.ipynb",
      "provenance": [],
      "authorship_tag": "ABX9TyN8A/dH1MzVpLxbGz0WguSz",
      "include_colab_link": true
    },
    "kernelspec": {
      "name": "python3",
      "display_name": "Python 3"
    },
    "language_info": {
      "name": "python"
    }
  },
  "cells": [
    {
      "cell_type": "markdown",
      "metadata": {
        "id": "view-in-github",
        "colab_type": "text"
      },
      "source": [
        "<a href=\"https://colab.research.google.com/github/fredricksonm/Discrete-Mathematics/blob/main/FredricksonMicah_CPSMA_3913_01_Lesson_3_Probability.ipynb\" target=\"_parent\"><img src=\"https://colab.research.google.com/assets/colab-badge.svg\" alt=\"Open In Colab\"/></a>"
      ]
    },
    {
      "cell_type": "markdown",
      "source": [
        "# Project Part #3 : CPSMA 3913-01 Discrete Mathematics\n",
        "## Probability"
      ],
      "metadata": {
        "id": "pXYWTVMh8WJH"
      }
    },
    {
      "cell_type": "markdown",
      "source": [
        "I will demonstrate some events with rolling dice."
      ],
      "metadata": {
        "id": "Ej1UW6o48jeH"
      }
    },
    {
      "cell_type": "code",
      "execution_count": 73,
      "metadata": {
        "id": "HMSKyiIxr72F"
      },
      "outputs": [],
      "source": [
        "from random import randint \n",
        "import random\n",
        "first_dice = []\n",
        "second_dice = []\n",
        "Xones = 0\n",
        "Xtwos = 0\n",
        "Xthrees = 0\n",
        "Xfours = 0\n",
        "Xfives = 0\n",
        "Xsixes = 0\n",
        "Yones = 0\n",
        "Ytwos = 0\n",
        "Ythrees = 0\n",
        "Yfours = 0\n",
        "Yfives = 0\n",
        "Ysixes = 0\n",
        "same = 0\n",
        "three = 0\n",
        "\n",
        "x=0\n",
        "y=0\n",
        "\n",
        "         \n",
        "\n"
      ]
    },
    {
      "cell_type": "markdown",
      "source": [
        "Importing libraries and defining variables."
      ],
      "metadata": {
        "id": "w50ftTrM4jya"
      }
    },
    {
      "cell_type": "code",
      "source": [
        "NumOfRolls = 100 # Put the number of times you want to simulate here\n",
        "first_dice = [random.randint(1,6) for x in range(NumOfRolls)]\n",
        "\n",
        "second_dice = [random.randint(1,6) for y in range(NumOfRolls)]"
      ],
      "metadata": {
        "id": "ztSv6-RD4kR3"
      },
      "execution_count": 74,
      "outputs": []
    },
    {
      "cell_type": "markdown",
      "source": [
        "Simulation of rolling two dice."
      ],
      "metadata": {
        "id": "zSuZ4jpp4kho"
      }
    },
    {
      "cell_type": "code",
      "source": [
        "for x in first_dice:\n",
        "  if first_dice[x] == 1:\n",
        "    Xones = Xones + 1\n",
        "  if first_dice[x] == 2:\n",
        "    Xtwos = Xtwos + 1\n",
        "  if first_dice[x] == 3:\n",
        "    Xthrees = Xthrees + 1\n",
        "  if first_dice[x] == 4:\n",
        "    Xfours = Xfours + 1\n",
        "  if first_dice[x] == 5:\n",
        "    Xfives = Xfives + 1\n",
        "  if first_dice[x] == 6:\n",
        "    Xsixes = Xsixes + 1   \n",
        "\n",
        "y=0\n",
        "for y in range(NumOfRolls):\n",
        "  if second_dice[y] == 1:\n",
        "    Yones = Yones + 1\n",
        "  if second_dice[y] == 2:\n",
        "    Ytwos = Ytwos + 1\n",
        "  if second_dice[y] == 3:\n",
        "    Ythrees = Ythrees + 1\n",
        "  if second_dice[y] == 4:\n",
        "    Yfours = Yfours + 1\n",
        "  if second_dice[y] == 5:\n",
        "    Yfives = Yfives + 1\n",
        "  if second_dice[y] == 6:\n",
        "    Ysixes = Ysixes + 1   "
      ],
      "metadata": {
        "id": "DmbHZcaa4kxY"
      },
      "execution_count": 75,
      "outputs": []
    },
    {
      "cell_type": "markdown",
      "source": [
        "Counting the results of the dice rolls. "
      ],
      "metadata": {
        "id": "sr-3mglM4k5o"
      }
    },
    {
      "cell_type": "code",
      "source": [
        "print(\"First dice probability results: \")\n",
        "print(\"Ones:\",(Xones/NumOfRolls))\n",
        "print(\"Twos:\",(Xtwos/NumOfRolls))\n",
        "print(\"Threes:\",(Xthrees/NumOfRolls))\n",
        "print(\"Fours:\",(Xfours/NumOfRolls))\n",
        "print(\"Fives:\",(Xfives/NumOfRolls))\n",
        "print(\"Sixes:\",(Xsixes/NumOfRolls))\n",
        "\n",
        "print(\"\\n\\nSecond dice probability results: \")\n",
        "print(\"Ones:\",(Yones/NumOfRolls))\n",
        "print(\"Twos:\",(Ytwos/NumOfRolls))\n",
        "print(\"Threes:\",(Ythrees/NumOfRolls))\n",
        "print(\"Fours:\",(Yfours/NumOfRolls))\n",
        "print(\"Fives:\",(Yfives/NumOfRolls))\n",
        "print(\"Sixes:\",(Ysixes/NumOfRolls))"
      ],
      "metadata": {
        "colab": {
          "base_uri": "https://localhost:8080/"
        },
        "id": "H975Xvie4lDI",
        "outputId": "5b904c9a-6582-4c3b-e85b-ff8acafa165e"
      },
      "execution_count": 76,
      "outputs": [
        {
          "output_type": "stream",
          "name": "stdout",
          "text": [
            "First dice probability results: \n",
            "Ones: 0.31\n",
            "Twos: 0.49\n",
            "Threes: 0.0\n",
            "Fours: 0.2\n",
            "Fives: 0.0\n",
            "Sixes: 0.0\n",
            "\n",
            "\n",
            "Second dice probability results: \n",
            "Ones: 0.2\n",
            "Twos: 0.12\n",
            "Threes: 0.17\n",
            "Fours: 0.21\n",
            "Fives: 0.15\n",
            "Sixes: 0.15\n"
          ]
        }
      ]
    },
    {
      "cell_type": "markdown",
      "source": [
        "Prints the percent probability that each number received from the amount of dice rolls there were. Each number should have close to 1/6 probability. (I'm wondering if this function isn't evenly measured since I sometimes get that I rolled 0 of a certain number out of 100 rolls.)"
      ],
      "metadata": {
        "id": "3nGK_woY4lKX"
      }
    },
    {
      "cell_type": "code",
      "source": [
        "for x in first_dice:\n",
        "  if first_dice[x] == second_dice[y]:\n",
        "    same = same + 1"
      ],
      "metadata": {
        "id": "rDivVPWT4lR4"
      },
      "execution_count": 77,
      "outputs": []
    },
    {
      "cell_type": "markdown",
      "source": [
        "Adding how many times I rolled doubles. (intersection)"
      ],
      "metadata": {
        "id": "5QfUVv494lZA"
      }
    },
    {
      "cell_type": "code",
      "source": [
        "print(\"Doubles:\",same/NumOfRolls)"
      ],
      "metadata": {
        "colab": {
          "base_uri": "https://localhost:8080/"
        },
        "id": "i72bYUNd4lgQ",
        "outputId": "ea119a42-4ce6-4888-b492-e1f91d07820d"
      },
      "execution_count": 78,
      "outputs": [
        {
          "output_type": "stream",
          "name": "stdout",
          "text": [
            "Doubles: 0.0\n"
          ]
        }
      ]
    },
    {
      "cell_type": "markdown",
      "source": [
        "The probability of doubles is supposed to be close to 1/6, but this program seems to give me a wide range of results."
      ],
      "metadata": {
        "id": "eE-CrgQC4lmP"
      }
    },
    {
      "cell_type": "code",
      "source": [
        "for x in first_dice:\n",
        "  if first_dice[x] == 3 or second_dice[x] == 3:\n",
        "    three = three + 1"
      ],
      "metadata": {
        "id": "M2oIk-LS9Jvy"
      },
      "execution_count": 79,
      "outputs": []
    },
    {
      "cell_type": "markdown",
      "source": [
        "I am calculating how often either dice rolls a 3 (Union)"
      ],
      "metadata": {
        "id": "TExdNVvp9J4o"
      }
    },
    {
      "cell_type": "code",
      "source": [
        "print(\"How often either dice rolled a 3:\",three/NumOfRolls)"
      ],
      "metadata": {
        "colab": {
          "base_uri": "https://localhost:8080/"
        },
        "id": "74UH3FlM96tf",
        "outputId": "a4252302-9509-4853-cc75-1137cb91b788"
      },
      "execution_count": 80,
      "outputs": [
        {
          "output_type": "stream",
          "name": "stdout",
          "text": [
            "How often either dice rolled a 3: 0.16\n"
          ]
        }
      ]
    }
  ]
}