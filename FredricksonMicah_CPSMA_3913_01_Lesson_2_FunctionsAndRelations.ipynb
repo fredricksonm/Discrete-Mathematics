{
  "nbformat": 4,
  "nbformat_minor": 0,
  "metadata": {
    "colab": {
      "name": "FredricksonMicah_CPSMA-3913-01_Lesson#2_FunctionsAndRelations.ipynb",
      "provenance": [],
      "collapsed_sections": [],
      "authorship_tag": "ABX9TyNAdwasCxyNdtJExoxeFXFh",
      "include_colab_link": true
    },
    "kernelspec": {
      "name": "python3",
      "display_name": "Python 3"
    },
    "language_info": {
      "name": "python"
    }
  },
  "cells": [
    {
      "cell_type": "markdown",
      "metadata": {
        "id": "view-in-github",
        "colab_type": "text"
      },
      "source": [
        "<a href=\"https://colab.research.google.com/github/fredricksonm/Discrete-Mathematics/blob/main/FredricksonMicah_CPSMA_3913_01_Lesson_2_FunctionsAndRelations.ipynb\" target=\"_parent\"><img src=\"https://colab.research.google.com/assets/colab-badge.svg\" alt=\"Open In Colab\"/></a>"
      ]
    },
    {
      "cell_type": "markdown",
      "source": [
        "# Project Part #2 : CPSMA 3913-01 Discrete Mathematics\n",
        "# Relations and Functions"
      ],
      "metadata": {
        "id": "zBvCcyDHpVVz"
      }
    },
    {
      "cell_type": "markdown",
      "source": [
        "## 1. Functions"
      ],
      "metadata": {
        "id": "1mebbyiOpfqy"
      }
    },
    {
      "cell_type": "code",
      "execution_count": null,
      "metadata": {
        "id": "0dF8Z8l9ZQsV"
      },
      "outputs": [],
      "source": [
        "from matplotlib import pyplot as plt\n",
        "import numpy as np\n",
        "import math\n"
      ]
    },
    {
      "cell_type": "markdown",
      "source": [
        "Importing math libraries that are needed."
      ],
      "metadata": {
        "id": "MOA3Fo-dZfMh"
      }
    },
    {
      "cell_type": "code",
      "source": [
        "x = np.arange(-(math.pi*4), math.pi*4, .05)\n",
        "def wave(x):\n",
        " return np.cos(x)\n",
        "plt.plot(x, wave(x))\n",
        "plt.xlabel(\"X Value\")\n",
        "plt.ylabel(\"Y value\")\n",
        "plt.title('Cos wave')\n",
        "plt.show()"
      ],
      "metadata": {
        "colab": {
          "base_uri": "https://localhost:8080/",
          "height": 295
        },
        "id": "88up6is3bGxR",
        "outputId": "b18b99ae-f524-49e9-ccdd-4bbb885da75b"
      },
      "execution_count": null,
      "outputs": [
        {
          "output_type": "display_data",
          "data": {
            "image/png": "[encoded data removed]",
            "text/plain": [
              "<Figure size 432x288 with 1 Axes>"
            ]
          },
          "metadata": {
            "needs_background": "light"
          }
        }
      ]
    },
    {
      "cell_type": "markdown",
      "source": [
        "Defined a function called \"wave\", and plotted a graph for Y=Cos(x)."
      ],
      "metadata": {
        "id": "jPJn12KWb7wx"
      }
    },
    {
      "cell_type": "markdown",
      "source": [
        "## 2 Dictionaries"
      ],
      "metadata": {
        "id": "w6GNzEB0pups"
      }
    },
    {
      "cell_type": "code",
      "source": [
        "A = ['Chiefs', '49ers', 'Rams', 'Bengals']\n",
        "B = ['Bills', 'Packers', 'Buccaneers', 'Titans']"
      ],
      "metadata": {
        "id": "2pgcYpA5kUUI"
      },
      "execution_count": 4,
      "outputs": []
    },
    {
      "cell_type": "markdown",
      "source": [
        "Defining set A and B"
      ],
      "metadata": {
        "id": "2T4Rz3__kvMX"
      }
    },
    {
      "cell_type": "code",
      "source": [
        "Dictionary = dict({'Bills':'Chiefs','49ers':'Packers', 'Buccaneers':'Rams', 'Bengals':'Titans'})"
      ],
      "metadata": {
        "id": "EZQRbhimjc13"
      },
      "execution_count": 5,
      "outputs": []
    },
    {
      "cell_type": "markdown",
      "source": [
        "The set is the playoff games going on this weekend."
      ],
      "metadata": {
        "id": "L0fv2Xxpo_7-"
      }
    },
    {
      "cell_type": "code",
      "source": [
        "Winners = [Dictionary.get(x,x) for x in A]"
      ],
      "metadata": {
        "id": "uqE9aZajk-UW"
      },
      "execution_count": 6,
      "outputs": []
    },
    {
      "cell_type": "markdown",
      "source": [
        "This gets only the winners into a set."
      ],
      "metadata": {
        "id": "uLSYxhzbpHaJ"
      }
    },
    {
      "cell_type": "code",
      "source": [
        "Winners"
      ],
      "metadata": {
        "colab": {
          "base_uri": "https://localhost:8080/"
        },
        "id": "l4q-azQglOOQ",
        "outputId": "0088c06e-b20d-4cb9-d3d6-7bf42d6d172a"
      },
      "execution_count": 7,
      "outputs": [
        {
          "output_type": "execute_result",
          "data": {
            "text/plain": [
              "['Chiefs', 'Packers', 'Rams', 'Titans']"
            ]
          },
          "metadata": {},
          "execution_count": 7
        }
      ]
    },
    {
      "cell_type": "markdown",
      "source": [
        "The set is not one to one, onto, or bi-jective."
      ],
      "metadata": {
        "id": "IEqItiGcoyJz"
      }
    }
  ]
}