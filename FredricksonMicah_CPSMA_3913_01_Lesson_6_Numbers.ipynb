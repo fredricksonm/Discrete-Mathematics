{
  "nbformat": 4,
  "nbformat_minor": 0,
  "metadata": {
    "colab": {
      "name": "Copy of FredricksonMicah_CPSMA_3913_01_Lesson_6_Numbers.ipynb",
      "provenance": [],
      "collapsed_sections": [],
      "authorship_tag": "ABX9TyO/wFpECXw2eyTrexM3IW+r",
      "include_colab_link": true
    },
    "kernelspec": {
      "name": "python3",
      "display_name": "Python 3"
    },
    "language_info": {
      "name": "python"
    }
  },
  "cells": [
    {
      "cell_type": "markdown",
      "metadata": {
        "id": "view-in-github",
        "colab_type": "text"
      },
      "source": [
        "<a href=\"https://colab.research.google.com/github/fredricksonm/Discrete-Mathematics/blob/main/FredricksonMicah_CPSMA_3913_01_Lesson_6_Numbers.ipynb\" target=\"_parent\"><img src=\"https://colab.research.google.com/assets/colab-badge.svg\" alt=\"Open In Colab\"/></a>"
      ]
    },
    {
      "cell_type": "markdown",
      "source": [
        "# Project Part #6 : CPSMA 3913-01 Discrete Mathematics"
      ],
      "metadata": {
        "id": "CroBJNCJ1IBZ"
      }
    },
    {
      "cell_type": "markdown",
      "source": [
        "## Numbers"
      ],
      "metadata": {
        "id": "E9-Qclcy1PVp"
      }
    },
    {
      "cell_type": "markdown",
      "source": [
        "First, I will write a few function to help me change the number from a different base to decimal."
      ],
      "metadata": {
        "id": "t2j9WcgX_QIv"
      }
    },
    {
      "cell_type": "code",
      "source": [
        "def val(c):\n",
        "    if c >= '0' and c <= '9':\n",
        "        return ord(c) - ord('0')\n",
        "    else:\n",
        "        return ord(c) - ord('A') + 10;"
      ],
      "metadata": {
        "id": "-Vh2W9qp4crI"
      },
      "execution_count": null,
      "outputs": []
    },
    {
      "cell_type": "code",
      "source": [
        "def toDeci(str,base):\n",
        "    llen = len(str)\n",
        "    power = 1 \n",
        "    num = 0   \n",
        " \n",
        "\n",
        "    for i in range(llen - 1, -1, -1):\n",
        "         \n",
        "         \n",
        "        if val(str[i]) >= base:\n",
        "            print('Invalid Number')\n",
        "            return -1\n",
        "        num += val(str[i]) * power\n",
        "        power = power * base\n",
        "    return num"
      ],
      "metadata": {
        "id": "GUkFgMO73niv"
      },
      "execution_count": null,
      "outputs": []
    },
    {
      "cell_type": "markdown",
      "source": [
        "Now, I wll convert 24,036 base 7 to decimal."
      ],
      "metadata": {
        "id": "Cn9foEJM_Y0n"
      }
    },
    {
      "cell_type": "code",
      "source": [
        "\n",
        "strr = \"24036\"\n",
        "base = 7\n",
        "print('Decimal equivalent of', strr,\n",
        "              'in base', base, 'is',\n",
        "                 toDeci(strr, base))"
      ],
      "metadata": {
        "colab": {
          "base_uri": "https://localhost:8080/"
        },
        "id": "SqTqEIwf44Oh",
        "outputId": "2499ea60-1504-41c1-87bf-95d646d0fe19"
      },
      "execution_count": null,
      "outputs": [
        {
          "output_type": "stream",
          "name": "stdout",
          "text": [
            "Decimal equivalent of 24036 in base 7 is 6201\n"
          ]
        }
      ]
    },
    {
      "cell_type": "markdown",
      "source": [
        "Now, I will convert 72E3 from hex to decimal."
      ],
      "metadata": {
        "id": "tbh2A7MK_v8v"
      }
    },
    {
      "cell_type": "code",
      "source": [
        "strr = \"72E3\"\n",
        "base = 16\n",
        "print('Decimal equivalent of', strr,\n",
        "              'in base', base, 'is',\n",
        "                 toDeci(strr, base))"
      ],
      "metadata": {
        "colab": {
          "base_uri": "https://localhost:8080/"
        },
        "id": "6yLH3hCY2mkp",
        "outputId": "a95b9478-bd6c-4dae-92b3-937beda67078"
      },
      "execution_count": null,
      "outputs": [
        {
          "output_type": "stream",
          "name": "stdout",
          "text": [
            "Decimal equivalent of 72E3 in base 16 is 29411\n"
          ]
        }
      ]
    },
    {
      "cell_type": "markdown",
      "source": [
        "Below, I convert 3,735,928,559 from decimal to hex."
      ],
      "metadata": {
        "id": "3WqxrxkS_7AH"
      }
    },
    {
      "cell_type": "code",
      "execution_count": null,
      "metadata": {
        "colab": {
          "base_uri": "https://localhost:8080/",
          "height": 35
        },
        "id": "xupkNjqW1GdU",
        "outputId": "9ad3d7af-2523-42c3-8f49-70d81fd0b282"
      },
      "outputs": [
        {
          "output_type": "execute_result",
          "data": {
            "application/vnd.google.colaboratory.intrinsic+json": {
              "type": "string"
            },
            "text/plain": [
              "'0xdeadbeef'"
            ]
          },
          "metadata": {},
          "execution_count": 1
        }
      ],
      "source": [
        "hex(3735928559)"
      ]
    },
    {
      "cell_type": "markdown",
      "source": [
        "I couldn't figure out the code for subtracting 25 - 37, but \n",
        "Two's Complement of 37 is 11011011\n",
        "25 in binary is 11001\n",
        "\n",
        "adding them together equals 11110100\n",
        "\n",
        "-12 in decimal."
      ],
      "metadata": {
        "id": "TkY8wAv-J7lB"
      }
    }
  ]
}