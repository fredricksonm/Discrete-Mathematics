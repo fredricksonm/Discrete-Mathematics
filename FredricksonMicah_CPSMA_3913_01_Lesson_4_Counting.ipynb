{
  "nbformat": 4,
  "nbformat_minor": 0,
  "metadata": {
    "colab": {
      "name": "FredricksonMicah_CPSMA_3913_01_Lesson_4_Counting.ipynb",
      "provenance": [],
      "authorship_tag": "ABX9TyNfTG8J5Z6oAeiKAhvT52bn",
      "include_colab_link": true
    },
    "kernelspec": {
      "name": "python3",
      "display_name": "Python 3"
    },
    "language_info": {
      "name": "python"
    }
  },
  "cells": [
    {
      "cell_type": "markdown",
      "metadata": {
        "id": "view-in-github",
        "colab_type": "text"
      },
      "source": [
        "<a href=\"https://colab.research.google.com/github/fredricksonm/Discrete-Mathematics/blob/main/FredricksonMicah_CPSMA_3913_01_Lesson_4_Counting.ipynb\" target=\"_parent\"><img src=\"https://colab.research.google.com/assets/colab-badge.svg\" alt=\"Open In Colab\"/></a>"
      ]
    },
    {
      "cell_type": "markdown",
      "source": [
        "# Project Part #4 : CPSMA 3913-01 Discrete Mathematics"
      ],
      "metadata": {
        "id": "AAqeeX3SPxMN"
      }
    },
    {
      "cell_type": "markdown",
      "source": [
        "## Counting"
      ],
      "metadata": {
        "id": "k9kOmoijP0Kj"
      }
    },
    {
      "cell_type": "markdown",
      "source": [
        "For my example, I will roll a 20 sided die 10 times."
      ],
      "metadata": {
        "id": "dag2KtF6REKS"
      }
    },
    {
      "cell_type": "code",
      "source": [
        "from random import randint \n",
        "import math\n",
        "import random\n",
        "dice_roll = []"
      ],
      "metadata": {
        "id": "KRieW52j8LBM"
      },
      "execution_count": 4,
      "outputs": []
    },
    {
      "cell_type": "code",
      "source": [
        "NumOfRolls = 10 # Put the number of times you want to simulate here\n",
        "dice_roll = [random.randint(1,20) for x in range(NumOfRolls)]"
      ],
      "metadata": {
        "id": "Enbez-LT8OE0"
      },
      "execution_count": null,
      "outputs": []
    },
    {
      "cell_type": "markdown",
      "source": [
        "(A) When rolling a 20 sided die 10 times, we would find the total number of possible outcomes by figuring out 20^10"
      ],
      "metadata": {
        "id": "9xj9iF0A9LCg"
      }
    },
    {
      "cell_type": "code",
      "source": [
        "20**10"
      ],
      "metadata": {
        "colab": {
          "base_uri": "https://localhost:8080/"
        },
        "id": "HYPJUWH_9l7U",
        "outputId": "7bb89713-f708-4f19-dfb5-1fb00d7b3f5d"
      },
      "execution_count": 1,
      "outputs": [
        {
          "output_type": "execute_result",
          "data": {
            "text/plain": [
              "10240000000000"
            ]
          },
          "metadata": {},
          "execution_count": 1
        }
      ]
    },
    {
      "cell_type": "markdown",
      "source": [
        "(B) In order to find the total possible outcomes where order does not matter, we would follow 10((n!)/((n – k)!k!)) where n = the total number of sides of the die and k = the number of dice being thrown at once. (10 is the number of times we are throwing the dice)"
      ],
      "metadata": {
        "id": "XM-hPzY7973_"
      }
    },
    {
      "cell_type": "code",
      "source": [
        "10*(math.factorial(20)/(math.factorial(19)*math.factorial(1)))"
      ],
      "metadata": {
        "colab": {
          "base_uri": "https://localhost:8080/"
        },
        "id": "0SJRsLXSAGc_",
        "outputId": "32b728e7-64c7-4542-a4bd-5c3ced3fa49b"
      },
      "execution_count": 5,
      "outputs": [
        {
          "output_type": "execute_result",
          "data": {
            "text/plain": [
              "200.0"
            ]
          },
          "metadata": {},
          "execution_count": 5
        }
      ]
    },
    {
      "cell_type": "markdown",
      "source": [
        "(B) There are 200 possible outcomes if order does not matter."
      ],
      "metadata": {
        "id": "koaQA_ADA1E_"
      }
    },
    {
      "cell_type": "markdown",
      "source": [
        "(C) If I couldn't document the same number multiple times, my total possible outcomes would be 10 since it would come out to 1 number per roll."
      ],
      "metadata": {
        "id": "wJBcg0KqBKa_"
      }
    },
    {
      "cell_type": "markdown",
      "source": [
        "(D) to find the 5th order of (x-3)^9, I have put a pic of Pascal's Triangle below."
      ],
      "metadata": {
        "id": "OXzKExdfD1IG"
      }
    },
    {
      "cell_type": "markdown",
      "source": [
        "![Pascals_Triangle.png](data:image/png;base64,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)"
      ],
      "metadata": {
        "id": "abTyNYPTDwfd"
      }
    },
    {
      "cell_type": "markdown",
      "source": [
        "(D) We will use the 9th row and 5th column in order to find the coefficient of the 5th order. The first term would be x^9y^0, 2nd term is x^8y^1, 3rd term is x^7y^2, 4th term is x^6y^3, 5th term is x^5y^4. Our term will be 70x^5y^4."
      ],
      "metadata": {
        "id": "CIEaAeIXEik0"
      }
    },
    {
      "cell_type": "markdown",
      "source": [
        "(D) to simplify it down, we would do 70(x^5)(-3)^4 = 70(x^5)64 = 4480x^5. Our coefficient is 4480."
      ],
      "metadata": {
        "id": "4ASVp5mhFQHt"
      }
    }
  ]
}